{
  "cells": [
    {
      "cell_type": "markdown",
      "metadata": {
        "id": "view-in-github",
        "colab_type": "text"
      },
      "source": [
        "<a href=\"https://colab.research.google.com/github/ivanozono/python_DataAnalyts/blob/main/Pivot_Tables.ipynb\" target=\"_parent\"><img src=\"https://colab.research.google.com/assets/colab-badge.svg\" alt=\"Open In Colab\"/></a>"
      ]
    },
    {
      "cell_type": "markdown",
      "metadata": {
        "id": "HWAVeEM5MLbs"
      },
      "source": [
        "# Pivot Tables"
      ]
    },
    {
      "cell_type": "code",
      "execution_count": 1,
      "metadata": {
        "jupyter": {
          "outputs_hidden": false
        },
        "id": "s_Ve0kHGMLbx"
      },
      "outputs": [],
      "source": [
        "## import necessary modules\n",
        "import numpy as np\n",
        "import pandas as pd\n",
        "import seaborn as sns"
      ]
    },
    {
      "cell_type": "code",
      "source": [
        "## load dataset from the SNS module\n",
        "titanic = sns.load_dataset('titanic')"
      ],
      "metadata": {
        "id": "LgkwGIrySR5d"
      },
      "execution_count": 2,
      "outputs": []
    },
    {
      "cell_type": "code",
      "execution_count": 3,
      "metadata": {
        "jupyter": {
          "outputs_hidden": false
        },
        "id": "Rvh4FT62MLby",
        "outputId": "d9493a27-7271-41d7-9de2-61c80fdb76b3",
        "colab": {
          "base_uri": "https://localhost:8080/",
          "height": 206
        }
      },
      "outputs": [
        {
          "output_type": "execute_result",
          "data": {
            "text/plain": [
              "   survived  pclass     sex   age  sibsp  parch     fare embarked  class  \\\n",
              "0         0       3    male  22.0      1      0   7.2500        S  Third   \n",
              "1         1       1  female  38.0      1      0  71.2833        C  First   \n",
              "2         1       3  female  26.0      0      0   7.9250        S  Third   \n",
              "3         1       1  female  35.0      1      0  53.1000        S  First   \n",
              "4         0       3    male  35.0      0      0   8.0500        S  Third   \n",
              "\n",
              "     who  adult_male deck  embark_town alive  alone  \n",
              "0    man        True  NaN  Southampton    no  False  \n",
              "1  woman       False    C    Cherbourg   yes  False  \n",
              "2  woman       False  NaN  Southampton   yes   True  \n",
              "3  woman       False    C  Southampton   yes  False  \n",
              "4    man        True  NaN  Southampton    no   True  "
            ],
            "text/html": [
              "\n",
              "  <div id=\"df-740bd920-c1d5-414b-8479-042e87af4c3c\">\n",
              "    <div class=\"colab-df-container\">\n",
              "      <div>\n",
              "<style scoped>\n",
              "    .dataframe tbody tr th:only-of-type {\n",
              "        vertical-align: middle;\n",
              "    }\n",
              "\n",
              "    .dataframe tbody tr th {\n",
              "        vertical-align: top;\n",
              "    }\n",
              "\n",
              "    .dataframe thead th {\n",
              "        text-align: right;\n",
              "    }\n",
              "</style>\n",
              "<table border=\"1\" class=\"dataframe\">\n",
              "  <thead>\n",
              "    <tr style=\"text-align: right;\">\n",
              "      <th></th>\n",
              "      <th>survived</th>\n",
              "      <th>pclass</th>\n",
              "      <th>sex</th>\n",
              "      <th>age</th>\n",
              "      <th>sibsp</th>\n",
              "      <th>parch</th>\n",
              "      <th>fare</th>\n",
              "      <th>embarked</th>\n",
              "      <th>class</th>\n",
              "      <th>who</th>\n",
              "      <th>adult_male</th>\n",
              "      <th>deck</th>\n",
              "      <th>embark_town</th>\n",
              "      <th>alive</th>\n",
              "      <th>alone</th>\n",
              "    </tr>\n",
              "  </thead>\n",
              "  <tbody>\n",
              "    <tr>\n",
              "      <th>0</th>\n",
              "      <td>0</td>\n",
              "      <td>3</td>\n",
              "      <td>male</td>\n",
              "      <td>22.0</td>\n",
              "      <td>1</td>\n",
              "      <td>0</td>\n",
              "      <td>7.2500</td>\n",
              "      <td>S</td>\n",
              "      <td>Third</td>\n",
              "      <td>man</td>\n",
              "      <td>True</td>\n",
              "      <td>NaN</td>\n",
              "      <td>Southampton</td>\n",
              "      <td>no</td>\n",
              "      <td>False</td>\n",
              "    </tr>\n",
              "    <tr>\n",
              "      <th>1</th>\n",
              "      <td>1</td>\n",
              "      <td>1</td>\n",
              "      <td>female</td>\n",
              "      <td>38.0</td>\n",
              "      <td>1</td>\n",
              "      <td>0</td>\n",
              "      <td>71.2833</td>\n",
              "      <td>C</td>\n",
              "      <td>First</td>\n",
              "      <td>woman</td>\n",
              "      <td>False</td>\n",
              "      <td>C</td>\n",
              "      <td>Cherbourg</td>\n",
              "      <td>yes</td>\n",
              "      <td>False</td>\n",
              "    </tr>\n",
              "    <tr>\n",
              "      <th>2</th>\n",
              "      <td>1</td>\n",
              "      <td>3</td>\n",
              "      <td>female</td>\n",
              "      <td>26.0</td>\n",
              "      <td>0</td>\n",
              "      <td>0</td>\n",
              "      <td>7.9250</td>\n",
              "      <td>S</td>\n",
              "      <td>Third</td>\n",
              "      <td>woman</td>\n",
              "      <td>False</td>\n",
              "      <td>NaN</td>\n",
              "      <td>Southampton</td>\n",
              "      <td>yes</td>\n",
              "      <td>True</td>\n",
              "    </tr>\n",
              "    <tr>\n",
              "      <th>3</th>\n",
              "      <td>1</td>\n",
              "      <td>1</td>\n",
              "      <td>female</td>\n",
              "      <td>35.0</td>\n",
              "      <td>1</td>\n",
              "      <td>0</td>\n",
              "      <td>53.1000</td>\n",
              "      <td>S</td>\n",
              "      <td>First</td>\n",
              "      <td>woman</td>\n",
              "      <td>False</td>\n",
              "      <td>C</td>\n",
              "      <td>Southampton</td>\n",
              "      <td>yes</td>\n",
              "      <td>False</td>\n",
              "    </tr>\n",
              "    <tr>\n",
              "      <th>4</th>\n",
              "      <td>0</td>\n",
              "      <td>3</td>\n",
              "      <td>male</td>\n",
              "      <td>35.0</td>\n",
              "      <td>0</td>\n",
              "      <td>0</td>\n",
              "      <td>8.0500</td>\n",
              "      <td>S</td>\n",
              "      <td>Third</td>\n",
              "      <td>man</td>\n",
              "      <td>True</td>\n",
              "      <td>NaN</td>\n",
              "      <td>Southampton</td>\n",
              "      <td>no</td>\n",
              "      <td>True</td>\n",
              "    </tr>\n",
              "  </tbody>\n",
              "</table>\n",
              "</div>\n",
              "      <button class=\"colab-df-convert\" onclick=\"convertToInteractive('df-740bd920-c1d5-414b-8479-042e87af4c3c')\"\n",
              "              title=\"Convert this dataframe to an interactive table.\"\n",
              "              style=\"display:none;\">\n",
              "        \n",
              "  <svg xmlns=\"http://www.w3.org/2000/svg\" height=\"24px\"viewBox=\"0 0 24 24\"\n",
              "       width=\"24px\">\n",
              "    <path d=\"M0 0h24v24H0V0z\" fill=\"none\"/>\n",
              "    <path d=\"M18.56 5.44l.94 2.06.94-2.06 2.06-.94-2.06-.94-.94-2.06-.94 2.06-2.06.94zm-11 1L8.5 8.5l.94-2.06 2.06-.94-2.06-.94L8.5 2.5l-.94 2.06-2.06.94zm10 10l.94 2.06.94-2.06 2.06-.94-2.06-.94-.94-2.06-.94 2.06-2.06.94z\"/><path d=\"M17.41 7.96l-1.37-1.37c-.4-.4-.92-.59-1.43-.59-.52 0-1.04.2-1.43.59L10.3 9.45l-7.72 7.72c-.78.78-.78 2.05 0 2.83L4 21.41c.39.39.9.59 1.41.59.51 0 1.02-.2 1.41-.59l7.78-7.78 2.81-2.81c.8-.78.8-2.07 0-2.86zM5.41 20L4 18.59l7.72-7.72 1.47 1.35L5.41 20z\"/>\n",
              "  </svg>\n",
              "      </button>\n",
              "      \n",
              "  <style>\n",
              "    .colab-df-container {\n",
              "      display:flex;\n",
              "      flex-wrap:wrap;\n",
              "      gap: 12px;\n",
              "    }\n",
              "\n",
              "    .colab-df-convert {\n",
              "      background-color: #E8F0FE;\n",
              "      border: none;\n",
              "      border-radius: 50%;\n",
              "      cursor: pointer;\n",
              "      display: none;\n",
              "      fill: #1967D2;\n",
              "      height: 32px;\n",
              "      padding: 0 0 0 0;\n",
              "      width: 32px;\n",
              "    }\n",
              "\n",
              "    .colab-df-convert:hover {\n",
              "      background-color: #E2EBFA;\n",
              "      box-shadow: 0px 1px 2px rgba(60, 64, 67, 0.3), 0px 1px 3px 1px rgba(60, 64, 67, 0.15);\n",
              "      fill: #174EA6;\n",
              "    }\n",
              "\n",
              "    [theme=dark] .colab-df-convert {\n",
              "      background-color: #3B4455;\n",
              "      fill: #D2E3FC;\n",
              "    }\n",
              "\n",
              "    [theme=dark] .colab-df-convert:hover {\n",
              "      background-color: #434B5C;\n",
              "      box-shadow: 0px 1px 3px 1px rgba(0, 0, 0, 0.15);\n",
              "      filter: drop-shadow(0px 1px 2px rgba(0, 0, 0, 0.3));\n",
              "      fill: #FFFFFF;\n",
              "    }\n",
              "  </style>\n",
              "\n",
              "      <script>\n",
              "        const buttonEl =\n",
              "          document.querySelector('#df-740bd920-c1d5-414b-8479-042e87af4c3c button.colab-df-convert');\n",
              "        buttonEl.style.display =\n",
              "          google.colab.kernel.accessAllowed ? 'block' : 'none';\n",
              "\n",
              "        async function convertToInteractive(key) {\n",
              "          const element = document.querySelector('#df-740bd920-c1d5-414b-8479-042e87af4c3c');\n",
              "          const dataTable =\n",
              "            await google.colab.kernel.invokeFunction('convertToInteractive',\n",
              "                                                     [key], {});\n",
              "          if (!dataTable) return;\n",
              "\n",
              "          const docLinkHtml = 'Like what you see? Visit the ' +\n",
              "            '<a target=\"_blank\" href=https://colab.research.google.com/notebooks/data_table.ipynb>data table notebook</a>'\n",
              "            + ' to learn more about interactive tables.';\n",
              "          element.innerHTML = '';\n",
              "          dataTable['output_type'] = 'display_data';\n",
              "          await google.colab.output.renderOutput(dataTable, element);\n",
              "          const docLink = document.createElement('div');\n",
              "          docLink.innerHTML = docLinkHtml;\n",
              "          element.appendChild(docLink);\n",
              "        }\n",
              "      </script>\n",
              "    </div>\n",
              "  </div>\n",
              "  "
            ]
          },
          "metadata": {},
          "execution_count": 3
        }
      ],
      "source": [
        "titanic.head()"
      ]
    },
    {
      "cell_type": "code",
      "source": [
        "titanic[['adult_male','age']]"
      ],
      "metadata": {
        "colab": {
          "base_uri": "https://localhost:8080/",
          "height": 424
        },
        "id": "Gs051QlPT1x-",
        "outputId": "d8e1074b-cee0-4231-9226-565682149eaf"
      },
      "execution_count": 4,
      "outputs": [
        {
          "output_type": "execute_result",
          "data": {
            "text/plain": [
              "     adult_male   age\n",
              "0          True  22.0\n",
              "1         False  38.0\n",
              "2         False  26.0\n",
              "3         False  35.0\n",
              "4          True  35.0\n",
              "..          ...   ...\n",
              "886        True  27.0\n",
              "887       False  19.0\n",
              "888       False   NaN\n",
              "889        True  26.0\n",
              "890        True  32.0\n",
              "\n",
              "[891 rows x 2 columns]"
            ],
            "text/html": [
              "\n",
              "  <div id=\"df-37b5edcf-fdb7-485a-863f-531095d1d728\">\n",
              "    <div class=\"colab-df-container\">\n",
              "      <div>\n",
              "<style scoped>\n",
              "    .dataframe tbody tr th:only-of-type {\n",
              "        vertical-align: middle;\n",
              "    }\n",
              "\n",
              "    .dataframe tbody tr th {\n",
              "        vertical-align: top;\n",
              "    }\n",
              "\n",
              "    .dataframe thead th {\n",
              "        text-align: right;\n",
              "    }\n",
              "</style>\n",
              "<table border=\"1\" class=\"dataframe\">\n",
              "  <thead>\n",
              "    <tr style=\"text-align: right;\">\n",
              "      <th></th>\n",
              "      <th>adult_male</th>\n",
              "      <th>age</th>\n",
              "    </tr>\n",
              "  </thead>\n",
              "  <tbody>\n",
              "    <tr>\n",
              "      <th>0</th>\n",
              "      <td>True</td>\n",
              "      <td>22.0</td>\n",
              "    </tr>\n",
              "    <tr>\n",
              "      <th>1</th>\n",
              "      <td>False</td>\n",
              "      <td>38.0</td>\n",
              "    </tr>\n",
              "    <tr>\n",
              "      <th>2</th>\n",
              "      <td>False</td>\n",
              "      <td>26.0</td>\n",
              "    </tr>\n",
              "    <tr>\n",
              "      <th>3</th>\n",
              "      <td>False</td>\n",
              "      <td>35.0</td>\n",
              "    </tr>\n",
              "    <tr>\n",
              "      <th>4</th>\n",
              "      <td>True</td>\n",
              "      <td>35.0</td>\n",
              "    </tr>\n",
              "    <tr>\n",
              "      <th>...</th>\n",
              "      <td>...</td>\n",
              "      <td>...</td>\n",
              "    </tr>\n",
              "    <tr>\n",
              "      <th>886</th>\n",
              "      <td>True</td>\n",
              "      <td>27.0</td>\n",
              "    </tr>\n",
              "    <tr>\n",
              "      <th>887</th>\n",
              "      <td>False</td>\n",
              "      <td>19.0</td>\n",
              "    </tr>\n",
              "    <tr>\n",
              "      <th>888</th>\n",
              "      <td>False</td>\n",
              "      <td>NaN</td>\n",
              "    </tr>\n",
              "    <tr>\n",
              "      <th>889</th>\n",
              "      <td>True</td>\n",
              "      <td>26.0</td>\n",
              "    </tr>\n",
              "    <tr>\n",
              "      <th>890</th>\n",
              "      <td>True</td>\n",
              "      <td>32.0</td>\n",
              "    </tr>\n",
              "  </tbody>\n",
              "</table>\n",
              "<p>891 rows × 2 columns</p>\n",
              "</div>\n",
              "      <button class=\"colab-df-convert\" onclick=\"convertToInteractive('df-37b5edcf-fdb7-485a-863f-531095d1d728')\"\n",
              "              title=\"Convert this dataframe to an interactive table.\"\n",
              "              style=\"display:none;\">\n",
              "        \n",
              "  <svg xmlns=\"http://www.w3.org/2000/svg\" height=\"24px\"viewBox=\"0 0 24 24\"\n",
              "       width=\"24px\">\n",
              "    <path d=\"M0 0h24v24H0V0z\" fill=\"none\"/>\n",
              "    <path d=\"M18.56 5.44l.94 2.06.94-2.06 2.06-.94-2.06-.94-.94-2.06-.94 2.06-2.06.94zm-11 1L8.5 8.5l.94-2.06 2.06-.94-2.06-.94L8.5 2.5l-.94 2.06-2.06.94zm10 10l.94 2.06.94-2.06 2.06-.94-2.06-.94-.94-2.06-.94 2.06-2.06.94z\"/><path d=\"M17.41 7.96l-1.37-1.37c-.4-.4-.92-.59-1.43-.59-.52 0-1.04.2-1.43.59L10.3 9.45l-7.72 7.72c-.78.78-.78 2.05 0 2.83L4 21.41c.39.39.9.59 1.41.59.51 0 1.02-.2 1.41-.59l7.78-7.78 2.81-2.81c.8-.78.8-2.07 0-2.86zM5.41 20L4 18.59l7.72-7.72 1.47 1.35L5.41 20z\"/>\n",
              "  </svg>\n",
              "      </button>\n",
              "      \n",
              "  <style>\n",
              "    .colab-df-container {\n",
              "      display:flex;\n",
              "      flex-wrap:wrap;\n",
              "      gap: 12px;\n",
              "    }\n",
              "\n",
              "    .colab-df-convert {\n",
              "      background-color: #E8F0FE;\n",
              "      border: none;\n",
              "      border-radius: 50%;\n",
              "      cursor: pointer;\n",
              "      display: none;\n",
              "      fill: #1967D2;\n",
              "      height: 32px;\n",
              "      padding: 0 0 0 0;\n",
              "      width: 32px;\n",
              "    }\n",
              "\n",
              "    .colab-df-convert:hover {\n",
              "      background-color: #E2EBFA;\n",
              "      box-shadow: 0px 1px 2px rgba(60, 64, 67, 0.3), 0px 1px 3px 1px rgba(60, 64, 67, 0.15);\n",
              "      fill: #174EA6;\n",
              "    }\n",
              "\n",
              "    [theme=dark] .colab-df-convert {\n",
              "      background-color: #3B4455;\n",
              "      fill: #D2E3FC;\n",
              "    }\n",
              "\n",
              "    [theme=dark] .colab-df-convert:hover {\n",
              "      background-color: #434B5C;\n",
              "      box-shadow: 0px 1px 3px 1px rgba(0, 0, 0, 0.15);\n",
              "      filter: drop-shadow(0px 1px 2px rgba(0, 0, 0, 0.3));\n",
              "      fill: #FFFFFF;\n",
              "    }\n",
              "  </style>\n",
              "\n",
              "      <script>\n",
              "        const buttonEl =\n",
              "          document.querySelector('#df-37b5edcf-fdb7-485a-863f-531095d1d728 button.colab-df-convert');\n",
              "        buttonEl.style.display =\n",
              "          google.colab.kernel.accessAllowed ? 'block' : 'none';\n",
              "\n",
              "        async function convertToInteractive(key) {\n",
              "          const element = document.querySelector('#df-37b5edcf-fdb7-485a-863f-531095d1d728');\n",
              "          const dataTable =\n",
              "            await google.colab.kernel.invokeFunction('convertToInteractive',\n",
              "                                                     [key], {});\n",
              "          if (!dataTable) return;\n",
              "\n",
              "          const docLinkHtml = 'Like what you see? Visit the ' +\n",
              "            '<a target=\"_blank\" href=https://colab.research.google.com/notebooks/data_table.ipynb>data table notebook</a>'\n",
              "            + ' to learn more about interactive tables.';\n",
              "          element.innerHTML = '';\n",
              "          dataTable['output_type'] = 'display_data';\n",
              "          await google.colab.output.renderOutput(dataTable, element);\n",
              "          const docLink = document.createElement('div');\n",
              "          docLink.innerHTML = docLinkHtml;\n",
              "          element.appendChild(docLink);\n",
              "        }\n",
              "      </script>\n",
              "    </div>\n",
              "  </div>\n",
              "  "
            ]
          },
          "metadata": {},
          "execution_count": 4
        }
      ]
    },
    {
      "cell_type": "code",
      "source": [
        "titanic.info()"
      ],
      "metadata": {
        "colab": {
          "base_uri": "https://localhost:8080/"
        },
        "id": "BBKZpsh6SZiL",
        "outputId": "0de14c3a-0784-4343-9c83-aaa4c3b63ad1"
      },
      "execution_count": 5,
      "outputs": [
        {
          "output_type": "stream",
          "name": "stdout",
          "text": [
            "<class 'pandas.core.frame.DataFrame'>\n",
            "RangeIndex: 891 entries, 0 to 890\n",
            "Data columns (total 15 columns):\n",
            " #   Column       Non-Null Count  Dtype   \n",
            "---  ------       --------------  -----   \n",
            " 0   survived     891 non-null    int64   \n",
            " 1   pclass       891 non-null    int64   \n",
            " 2   sex          891 non-null    object  \n",
            " 3   age          714 non-null    float64 \n",
            " 4   sibsp        891 non-null    int64   \n",
            " 5   parch        891 non-null    int64   \n",
            " 6   fare         891 non-null    float64 \n",
            " 7   embarked     889 non-null    object  \n",
            " 8   class        891 non-null    category\n",
            " 9   who          891 non-null    object  \n",
            " 10  adult_male   891 non-null    bool    \n",
            " 11  deck         203 non-null    category\n",
            " 12  embark_town  889 non-null    object  \n",
            " 13  alive        891 non-null    object  \n",
            " 14  alone        891 non-null    bool    \n",
            "dtypes: bool(2), category(2), float64(2), int64(4), object(5)\n",
            "memory usage: 80.7+ KB\n"
          ]
        }
      ]
    },
    {
      "cell_type": "markdown",
      "metadata": {
        "id": "qr30MtzcMLby"
      },
      "source": [
        "As the output shows, this contains a number of data points on each passenger on that ill-fated voyage, including sex, age, class, fare paid, and much more."
      ]
    },
    {
      "cell_type": "markdown",
      "source": [
        "![image.png](data:image/png;base64,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)"
      ],
      "metadata": {
        "id": "FSJn-ANBarJm"
      }
    },
    {
      "cell_type": "code",
      "source": [
        "titanic.groupby('embarked').mean()"
      ],
      "metadata": {
        "colab": {
          "base_uri": "https://localhost:8080/",
          "height": 231
        },
        "id": "RanbXA9gSxrg",
        "outputId": "9ed4d7ed-4428-4736-88f0-4c543338a32e"
      },
      "execution_count": 6,
      "outputs": [
        {
          "output_type": "stream",
          "name": "stderr",
          "text": [
            "<ipython-input-6-8e7849956c0e>:1: FutureWarning: The default value of numeric_only in DataFrameGroupBy.mean is deprecated. In a future version, numeric_only will default to False. Either specify numeric_only or select only columns which should be valid for the function.\n",
            "  titanic.groupby('embarked').mean()\n"
          ]
        },
        {
          "output_type": "execute_result",
          "data": {
            "text/plain": [
              "          survived    pclass        age     sibsp     parch       fare  \\\n",
              "embarked                                                                 \n",
              "C         0.553571  1.886905  30.814769  0.386905  0.363095  59.954144   \n",
              "Q         0.389610  2.909091  28.089286  0.428571  0.168831  13.276030   \n",
              "S         0.336957  2.350932  29.445397  0.571429  0.413043  27.079812   \n",
              "\n",
              "          adult_male     alone  \n",
              "embarked                        \n",
              "C           0.535714  0.505952  \n",
              "Q           0.480519  0.740260  \n",
              "S           0.636646  0.610248  "
            ],
            "text/html": [
              "\n",
              "  <div id=\"df-1f509d22-26e1-4b54-995e-899c2ae08f15\">\n",
              "    <div class=\"colab-df-container\">\n",
              "      <div>\n",
              "<style scoped>\n",
              "    .dataframe tbody tr th:only-of-type {\n",
              "        vertical-align: middle;\n",
              "    }\n",
              "\n",
              "    .dataframe tbody tr th {\n",
              "        vertical-align: top;\n",
              "    }\n",
              "\n",
              "    .dataframe thead th {\n",
              "        text-align: right;\n",
              "    }\n",
              "</style>\n",
              "<table border=\"1\" class=\"dataframe\">\n",
              "  <thead>\n",
              "    <tr style=\"text-align: right;\">\n",
              "      <th></th>\n",
              "      <th>survived</th>\n",
              "      <th>pclass</th>\n",
              "      <th>age</th>\n",
              "      <th>sibsp</th>\n",
              "      <th>parch</th>\n",
              "      <th>fare</th>\n",
              "      <th>adult_male</th>\n",
              "      <th>alone</th>\n",
              "    </tr>\n",
              "    <tr>\n",
              "      <th>embarked</th>\n",
              "      <th></th>\n",
              "      <th></th>\n",
              "      <th></th>\n",
              "      <th></th>\n",
              "      <th></th>\n",
              "      <th></th>\n",
              "      <th></th>\n",
              "      <th></th>\n",
              "    </tr>\n",
              "  </thead>\n",
              "  <tbody>\n",
              "    <tr>\n",
              "      <th>C</th>\n",
              "      <td>0.553571</td>\n",
              "      <td>1.886905</td>\n",
              "      <td>30.814769</td>\n",
              "      <td>0.386905</td>\n",
              "      <td>0.363095</td>\n",
              "      <td>59.954144</td>\n",
              "      <td>0.535714</td>\n",
              "      <td>0.505952</td>\n",
              "    </tr>\n",
              "    <tr>\n",
              "      <th>Q</th>\n",
              "      <td>0.389610</td>\n",
              "      <td>2.909091</td>\n",
              "      <td>28.089286</td>\n",
              "      <td>0.428571</td>\n",
              "      <td>0.168831</td>\n",
              "      <td>13.276030</td>\n",
              "      <td>0.480519</td>\n",
              "      <td>0.740260</td>\n",
              "    </tr>\n",
              "    <tr>\n",
              "      <th>S</th>\n",
              "      <td>0.336957</td>\n",
              "      <td>2.350932</td>\n",
              "      <td>29.445397</td>\n",
              "      <td>0.571429</td>\n",
              "      <td>0.413043</td>\n",
              "      <td>27.079812</td>\n",
              "      <td>0.636646</td>\n",
              "      <td>0.610248</td>\n",
              "    </tr>\n",
              "  </tbody>\n",
              "</table>\n",
              "</div>\n",
              "      <button class=\"colab-df-convert\" onclick=\"convertToInteractive('df-1f509d22-26e1-4b54-995e-899c2ae08f15')\"\n",
              "              title=\"Convert this dataframe to an interactive table.\"\n",
              "              style=\"display:none;\">\n",
              "        \n",
              "  <svg xmlns=\"http://www.w3.org/2000/svg\" height=\"24px\"viewBox=\"0 0 24 24\"\n",
              "       width=\"24px\">\n",
              "    <path d=\"M0 0h24v24H0V0z\" fill=\"none\"/>\n",
              "    <path d=\"M18.56 5.44l.94 2.06.94-2.06 2.06-.94-2.06-.94-.94-2.06-.94 2.06-2.06.94zm-11 1L8.5 8.5l.94-2.06 2.06-.94-2.06-.94L8.5 2.5l-.94 2.06-2.06.94zm10 10l.94 2.06.94-2.06 2.06-.94-2.06-.94-.94-2.06-.94 2.06-2.06.94z\"/><path d=\"M17.41 7.96l-1.37-1.37c-.4-.4-.92-.59-1.43-.59-.52 0-1.04.2-1.43.59L10.3 9.45l-7.72 7.72c-.78.78-.78 2.05 0 2.83L4 21.41c.39.39.9.59 1.41.59.51 0 1.02-.2 1.41-.59l7.78-7.78 2.81-2.81c.8-.78.8-2.07 0-2.86zM5.41 20L4 18.59l7.72-7.72 1.47 1.35L5.41 20z\"/>\n",
              "  </svg>\n",
              "      </button>\n",
              "      \n",
              "  <style>\n",
              "    .colab-df-container {\n",
              "      display:flex;\n",
              "      flex-wrap:wrap;\n",
              "      gap: 12px;\n",
              "    }\n",
              "\n",
              "    .colab-df-convert {\n",
              "      background-color: #E8F0FE;\n",
              "      border: none;\n",
              "      border-radius: 50%;\n",
              "      cursor: pointer;\n",
              "      display: none;\n",
              "      fill: #1967D2;\n",
              "      height: 32px;\n",
              "      padding: 0 0 0 0;\n",
              "      width: 32px;\n",
              "    }\n",
              "\n",
              "    .colab-df-convert:hover {\n",
              "      background-color: #E2EBFA;\n",
              "      box-shadow: 0px 1px 2px rgba(60, 64, 67, 0.3), 0px 1px 3px 1px rgba(60, 64, 67, 0.15);\n",
              "      fill: #174EA6;\n",
              "    }\n",
              "\n",
              "    [theme=dark] .colab-df-convert {\n",
              "      background-color: #3B4455;\n",
              "      fill: #D2E3FC;\n",
              "    }\n",
              "\n",
              "    [theme=dark] .colab-df-convert:hover {\n",
              "      background-color: #434B5C;\n",
              "      box-shadow: 0px 1px 3px 1px rgba(0, 0, 0, 0.15);\n",
              "      filter: drop-shadow(0px 1px 2px rgba(0, 0, 0, 0.3));\n",
              "      fill: #FFFFFF;\n",
              "    }\n",
              "  </style>\n",
              "\n",
              "      <script>\n",
              "        const buttonEl =\n",
              "          document.querySelector('#df-1f509d22-26e1-4b54-995e-899c2ae08f15 button.colab-df-convert');\n",
              "        buttonEl.style.display =\n",
              "          google.colab.kernel.accessAllowed ? 'block' : 'none';\n",
              "\n",
              "        async function convertToInteractive(key) {\n",
              "          const element = document.querySelector('#df-1f509d22-26e1-4b54-995e-899c2ae08f15');\n",
              "          const dataTable =\n",
              "            await google.colab.kernel.invokeFunction('convertToInteractive',\n",
              "                                                     [key], {});\n",
              "          if (!dataTable) return;\n",
              "\n",
              "          const docLinkHtml = 'Like what you see? Visit the ' +\n",
              "            '<a target=\"_blank\" href=https://colab.research.google.com/notebooks/data_table.ipynb>data table notebook</a>'\n",
              "            + ' to learn more about interactive tables.';\n",
              "          element.innerHTML = '';\n",
              "          dataTable['output_type'] = 'display_data';\n",
              "          await google.colab.output.renderOutput(dataTable, element);\n",
              "          const docLink = document.createElement('div');\n",
              "          docLink.innerHTML = docLinkHtml;\n",
              "          element.appendChild(docLink);\n",
              "        }\n",
              "      </script>\n",
              "    </div>\n",
              "  </div>\n",
              "  "
            ]
          },
          "metadata": {},
          "execution_count": 6
        }
      ]
    },
    {
      "cell_type": "code",
      "execution_count": 7,
      "metadata": {
        "jupyter": {
          "outputs_hidden": false
        },
        "id": "cxzJoMteMLbz",
        "outputId": "87c5fbf1-d49c-48b2-b435-d3b0479957bf",
        "colab": {
          "base_uri": "https://localhost:8080/",
          "height": 175
        }
      },
      "outputs": [
        {
          "output_type": "execute_result",
          "data": {
            "text/plain": [
              "          survived\n",
              "embarked          \n",
              "C         0.553571\n",
              "Q         0.389610\n",
              "S         0.336957"
            ],
            "text/html": [
              "\n",
              "  <div id=\"df-fcc56d94-4f5c-4134-bfe1-d8b198a85ab8\">\n",
              "    <div class=\"colab-df-container\">\n",
              "      <div>\n",
              "<style scoped>\n",
              "    .dataframe tbody tr th:only-of-type {\n",
              "        vertical-align: middle;\n",
              "    }\n",
              "\n",
              "    .dataframe tbody tr th {\n",
              "        vertical-align: top;\n",
              "    }\n",
              "\n",
              "    .dataframe thead th {\n",
              "        text-align: right;\n",
              "    }\n",
              "</style>\n",
              "<table border=\"1\" class=\"dataframe\">\n",
              "  <thead>\n",
              "    <tr style=\"text-align: right;\">\n",
              "      <th></th>\n",
              "      <th>survived</th>\n",
              "    </tr>\n",
              "    <tr>\n",
              "      <th>embarked</th>\n",
              "      <th></th>\n",
              "    </tr>\n",
              "  </thead>\n",
              "  <tbody>\n",
              "    <tr>\n",
              "      <th>C</th>\n",
              "      <td>0.553571</td>\n",
              "    </tr>\n",
              "    <tr>\n",
              "      <th>Q</th>\n",
              "      <td>0.389610</td>\n",
              "    </tr>\n",
              "    <tr>\n",
              "      <th>S</th>\n",
              "      <td>0.336957</td>\n",
              "    </tr>\n",
              "  </tbody>\n",
              "</table>\n",
              "</div>\n",
              "      <button class=\"colab-df-convert\" onclick=\"convertToInteractive('df-fcc56d94-4f5c-4134-bfe1-d8b198a85ab8')\"\n",
              "              title=\"Convert this dataframe to an interactive table.\"\n",
              "              style=\"display:none;\">\n",
              "        \n",
              "  <svg xmlns=\"http://www.w3.org/2000/svg\" height=\"24px\"viewBox=\"0 0 24 24\"\n",
              "       width=\"24px\">\n",
              "    <path d=\"M0 0h24v24H0V0z\" fill=\"none\"/>\n",
              "    <path d=\"M18.56 5.44l.94 2.06.94-2.06 2.06-.94-2.06-.94-.94-2.06-.94 2.06-2.06.94zm-11 1L8.5 8.5l.94-2.06 2.06-.94-2.06-.94L8.5 2.5l-.94 2.06-2.06.94zm10 10l.94 2.06.94-2.06 2.06-.94-2.06-.94-.94-2.06-.94 2.06-2.06.94z\"/><path d=\"M17.41 7.96l-1.37-1.37c-.4-.4-.92-.59-1.43-.59-.52 0-1.04.2-1.43.59L10.3 9.45l-7.72 7.72c-.78.78-.78 2.05 0 2.83L4 21.41c.39.39.9.59 1.41.59.51 0 1.02-.2 1.41-.59l7.78-7.78 2.81-2.81c.8-.78.8-2.07 0-2.86zM5.41 20L4 18.59l7.72-7.72 1.47 1.35L5.41 20z\"/>\n",
              "  </svg>\n",
              "      </button>\n",
              "      \n",
              "  <style>\n",
              "    .colab-df-container {\n",
              "      display:flex;\n",
              "      flex-wrap:wrap;\n",
              "      gap: 12px;\n",
              "    }\n",
              "\n",
              "    .colab-df-convert {\n",
              "      background-color: #E8F0FE;\n",
              "      border: none;\n",
              "      border-radius: 50%;\n",
              "      cursor: pointer;\n",
              "      display: none;\n",
              "      fill: #1967D2;\n",
              "      height: 32px;\n",
              "      padding: 0 0 0 0;\n",
              "      width: 32px;\n",
              "    }\n",
              "\n",
              "    .colab-df-convert:hover {\n",
              "      background-color: #E2EBFA;\n",
              "      box-shadow: 0px 1px 2px rgba(60, 64, 67, 0.3), 0px 1px 3px 1px rgba(60, 64, 67, 0.15);\n",
              "      fill: #174EA6;\n",
              "    }\n",
              "\n",
              "    [theme=dark] .colab-df-convert {\n",
              "      background-color: #3B4455;\n",
              "      fill: #D2E3FC;\n",
              "    }\n",
              "\n",
              "    [theme=dark] .colab-df-convert:hover {\n",
              "      background-color: #434B5C;\n",
              "      box-shadow: 0px 1px 3px 1px rgba(0, 0, 0, 0.15);\n",
              "      filter: drop-shadow(0px 1px 2px rgba(0, 0, 0, 0.3));\n",
              "      fill: #FFFFFF;\n",
              "    }\n",
              "  </style>\n",
              "\n",
              "      <script>\n",
              "        const buttonEl =\n",
              "          document.querySelector('#df-fcc56d94-4f5c-4134-bfe1-d8b198a85ab8 button.colab-df-convert');\n",
              "        buttonEl.style.display =\n",
              "          google.colab.kernel.accessAllowed ? 'block' : 'none';\n",
              "\n",
              "        async function convertToInteractive(key) {\n",
              "          const element = document.querySelector('#df-fcc56d94-4f5c-4134-bfe1-d8b198a85ab8');\n",
              "          const dataTable =\n",
              "            await google.colab.kernel.invokeFunction('convertToInteractive',\n",
              "                                                     [key], {});\n",
              "          if (!dataTable) return;\n",
              "\n",
              "          const docLinkHtml = 'Like what you see? Visit the ' +\n",
              "            '<a target=\"_blank\" href=https://colab.research.google.com/notebooks/data_table.ipynb>data table notebook</a>'\n",
              "            + ' to learn more about interactive tables.';\n",
              "          element.innerHTML = '';\n",
              "          dataTable['output_type'] = 'display_data';\n",
              "          await google.colab.output.renderOutput(dataTable, element);\n",
              "          const docLink = document.createElement('div');\n",
              "          docLink.innerHTML = docLinkHtml;\n",
              "          element.appendChild(docLink);\n",
              "        }\n",
              "      </script>\n",
              "    </div>\n",
              "  </div>\n",
              "  "
            ]
          },
          "metadata": {},
          "execution_count": 7
        }
      ],
      "source": [
        "## groupby by the category\n",
        "sex_gb = titanic.groupby('embarked')[['survived']].mean()\n",
        "sex_gb"
      ]
    },
    {
      "cell_type": "code",
      "source": [
        "sex_gb.columns"
      ],
      "metadata": {
        "colab": {
          "base_uri": "https://localhost:8080/"
        },
        "id": "fQPLQsqyUYLV",
        "outputId": "d64dc483-2a51-4910-8bbc-f20a6be40109"
      },
      "execution_count": 8,
      "outputs": [
        {
          "output_type": "execute_result",
          "data": {
            "text/plain": [
              "Index(['survived'], dtype='object')"
            ]
          },
          "metadata": {},
          "execution_count": 8
        }
      ]
    },
    {
      "cell_type": "code",
      "execution_count": 9,
      "metadata": {
        "jupyter": {
          "outputs_hidden": false
        },
        "id": "HnxfhI4vMLb0",
        "outputId": "6cd329d6-b15a-4623-a9b0-5f222c455e6b",
        "colab": {
          "base_uri": "https://localhost:8080/",
          "height": 187
        }
      },
      "outputs": [
        {
          "output_type": "error",
          "ename": "NameError",
          "evalue": "ignored",
          "traceback": [
            "\u001b[0;31m---------------------------------------------------------------------------\u001b[0m",
            "\u001b[0;31mNameError\u001b[0m                                 Traceback (most recent call last)",
            "\u001b[0;32m<ipython-input-9-53dab4c0f68a>\u001b[0m in \u001b[0;36m<cell line: 2>\u001b[0;34m()\u001b[0m\n\u001b[1;32m      1\u001b[0m \u001b[0;31m#gby1 = titanic.groupby(['sex', 'class'])['survived'].aggregate('mean').unstack(0)\u001b[0m\u001b[0;34m\u001b[0m\u001b[0;34m\u001b[0m\u001b[0m\n\u001b[0;32m----> 2\u001b[0;31m \u001b[0mgby1\u001b[0m\u001b[0;34m\u001b[0m\u001b[0;34m\u001b[0m\u001b[0m\n\u001b[0m",
            "\u001b[0;31mNameError\u001b[0m: name 'gby1' is not defined"
          ]
        }
      ],
      "source": [
        "#gby1 = titanic.groupby(['sex', 'class'])['survived'].aggregate('mean').unstack(0)\n",
        "gby1"
      ]
    },
    {
      "cell_type": "code",
      "source": [
        "gby1.columns"
      ],
      "metadata": {
        "id": "v3m9ZyFXXWGV"
      },
      "execution_count": null,
      "outputs": []
    },
    {
      "cell_type": "code",
      "source": [
        "gby1.index"
      ],
      "metadata": {
        "id": "5pWTqyu-XaP6"
      },
      "execution_count": null,
      "outputs": []
    },
    {
      "cell_type": "code",
      "source": [
        "titanic.groupby(['class', 'sex'])['survived'].aggregate('mean').unstack(0)"
      ],
      "metadata": {
        "id": "HnuiRSEyXGzu"
      },
      "execution_count": null,
      "outputs": []
    },
    {
      "cell_type": "code",
      "source": [
        "#gby2 = titanic.groupby(['sex', 'class'])['survived'].mean().reset_index()\n",
        "gby2"
      ],
      "metadata": {
        "id": "4PyyoNBNVCTm"
      },
      "execution_count": null,
      "outputs": []
    },
    {
      "cell_type": "code",
      "source": [
        "gby2.columns"
      ],
      "metadata": {
        "id": "uIvyT_T-YS3n"
      },
      "execution_count": null,
      "outputs": []
    },
    {
      "cell_type": "code",
      "source": [
        "gby2.index"
      ],
      "metadata": {
        "id": "U7l-jLWfYfY0"
      },
      "execution_count": null,
      "outputs": []
    },
    {
      "cell_type": "code",
      "source": [
        "gby2.iloc[0:2,0:2]"
      ],
      "metadata": {
        "id": "R4rbDOJSYnKp"
      },
      "execution_count": null,
      "outputs": []
    },
    {
      "cell_type": "markdown",
      "metadata": {
        "id": "tcjWJsP1MLb0"
      },
      "source": [
        "## Pivot Table Syntax\n",
        "\n",
        "Here is the equivalent to the preceding operation using the `DataFrame.pivot_table` method:"
      ]
    },
    {
      "cell_type": "code",
      "execution_count": null,
      "metadata": {
        "jupyter": {
          "outputs_hidden": false
        },
        "id": "1wS4B_zmMLb1"
      },
      "outputs": [],
      "source": [
        "pvt_cls = titanic.pivot_table('survived', index='sex', columns='class', aggfunc='mean')\n",
        "pvt_cls"
      ]
    },
    {
      "cell_type": "markdown",
      "metadata": {
        "id": "gSYhiHuYMLb1"
      },
      "source": [
        "### Multilevel Pivot Tables\n",
        "\n",
        "Just as in a `groupby`, the grouping in pivot tables can be specified with multiple levels and via a number of options.\n",
        "For example, we might be interested in looking at age as a third dimension.\n",
        "We'll bin the age using the `pd.cut` function:"
      ]
    },
    {
      "cell_type": "code",
      "execution_count": null,
      "metadata": {
        "jupyter": {
          "outputs_hidden": false
        },
        "id": "MEHcDKGTMLb1"
      },
      "outputs": [],
      "source": [
        "age = pd.cut(titanic['age'], [0, 18, 80])\n",
        "titanic.pivot_table('survived', ['sex', age], 'class')"
      ]
    },
    {
      "cell_type": "markdown",
      "metadata": {
        "id": "sCNnSmAiMLb1"
      },
      "source": [
        "We can apply the same strategy when working with the columns as well; let's add info on the fare paid, using `pd.qcut` to automatically compute quantiles:"
      ]
    },
    {
      "cell_type": "code",
      "execution_count": null,
      "metadata": {
        "jupyter": {
          "outputs_hidden": false
        },
        "id": "Z5LjX1feMLb1"
      },
      "outputs": [],
      "source": [
        "fare = pd.qcut(titanic['fare'], 2)\n",
        "titanic.pivot_table('survived', ['sex', age], [fare, 'class'])"
      ]
    },
    {
      "cell_type": "markdown",
      "metadata": {
        "id": "N5kwjXF_MLb2"
      },
      "source": [
        "### Additional Pivot Table Options\n",
        "\n",
        "The full call signature of the `DataFrame.pivot_table` method is as follows:\n",
        "\n",
        "```python\n",
        "# call signature as of Pandas 1.3.5\n",
        "DataFrame.pivot_table(data, values=None, index=None, columns=None,\n",
        "                      aggfunc='mean', fill_value=None, margins=False,\n",
        "                      dropna=True, margins_name='All', observed=False,\n",
        "                      sort=True)\n",
        "```"
      ]
    },
    {
      "cell_type": "code",
      "execution_count": null,
      "metadata": {
        "jupyter": {
          "outputs_hidden": false
        },
        "id": "FOAkXGQkMLb2"
      },
      "outputs": [],
      "source": [
        "titanic.pivot_table(index='sex', columns='class',\n",
        "                    aggfunc={'survived':sum, 'fare':'mean'})"
      ]
    },
    {
      "cell_type": "markdown",
      "metadata": {
        "id": "2SkUWeeoMLb4"
      },
      "source": [
        "Notice also here that we've omitted the `values` keyword; when specifying a mapping for `aggfunc`, this is determined automatically."
      ]
    },
    {
      "cell_type": "markdown",
      "metadata": {
        "id": "RPCTJrp_MLb4"
      },
      "source": [
        "At times it's useful to compute totals along each grouping.\n",
        "This can be done via the ``margins`` keyword:"
      ]
    },
    {
      "cell_type": "code",
      "execution_count": null,
      "metadata": {
        "jupyter": {
          "outputs_hidden": false
        },
        "id": "YaAaJ5xPMLb4"
      },
      "outputs": [],
      "source": [
        "titanic.pivot_table('survived', index='sex', columns='class', margins=True)"
      ]
    },
    {
      "cell_type": "markdown",
      "metadata": {
        "id": "bgKECb01MLb4"
      },
      "source": [
        "Here, this automatically gives us information about the class-agnostic survival rate by sex, the sex-agnostic survival rate by class, and the overall survival rate of 38%.\n",
        "The margin label can be specified with the `margins_name` keyword; it defaults to `\"All\"`."
      ]
    },
    {
      "cell_type": "code",
      "execution_count": null,
      "metadata": {
        "jupyter": {
          "outputs_hidden": false
        },
        "id": "QHdoZwNIMLb5"
      },
      "outputs": [],
      "source": [
        "# shell command to download the data:\n",
        "#!cd data && curl -O \\\n",
        "data=pd.read_csv(\"https://raw.githubusercontent.com/jakevdp/data-CDCbirths/master/births.csv\")"
      ]
    },
    {
      "cell_type": "code",
      "source": [
        "data.head()"
      ],
      "metadata": {
        "id": "JMsk4U_tgfdW"
      },
      "execution_count": null,
      "outputs": []
    },
    {
      "cell_type": "code",
      "source": [
        "births = data"
      ],
      "metadata": {
        "id": "Ac2hXUzogpjC"
      },
      "execution_count": null,
      "outputs": []
    },
    {
      "cell_type": "code",
      "execution_count": null,
      "metadata": {
        "tags": [],
        "id": "PGiJOkY-MLb5"
      },
      "outputs": [],
      "source": [
        "#births = pd.read_csv('data/births.csv')"
      ]
    },
    {
      "cell_type": "markdown",
      "metadata": {
        "id": "lpiqZiKAMLb5"
      },
      "source": [
        "Taking a look at the data, we see that it's relatively simple—it contains the number of births grouped by date and gender:"
      ]
    },
    {
      "cell_type": "code",
      "source": [
        "births.shape"
      ],
      "metadata": {
        "id": "y3dirRYLiNfW"
      },
      "execution_count": null,
      "outputs": []
    },
    {
      "cell_type": "code",
      "execution_count": null,
      "metadata": {
        "jupyter": {
          "outputs_hidden": false
        },
        "id": "keKPir-VMLb5"
      },
      "outputs": [],
      "source": [
        "births.head()"
      ]
    },
    {
      "cell_type": "markdown",
      "metadata": {
        "id": "w8hsmmiJMLb5"
      },
      "source": [
        "We can start to understand this data a bit more by using a pivot table.\n",
        "Let's add a `decade` column, and take a look at male and female births as a function of decade:"
      ]
    },
    {
      "cell_type": "code",
      "source": [
        "births['year'] // 10"
      ],
      "metadata": {
        "id": "48wyFTkGi2Vg"
      },
      "execution_count": null,
      "outputs": []
    },
    {
      "cell_type": "code",
      "execution_count": null,
      "metadata": {
        "jupyter": {
          "outputs_hidden": false
        },
        "id": "3WuVcnxYMLb6"
      },
      "outputs": [],
      "source": [
        "## create a new column called 'decade'\n",
        "births['decade'] = 10 * (births['year'] // 10)\n",
        "births.head()"
      ]
    },
    {
      "cell_type": "code",
      "source": [
        "births.describe().transpose()"
      ],
      "metadata": {
        "id": "p22iYnPYmc3l"
      },
      "execution_count": null,
      "outputs": []
    },
    {
      "cell_type": "markdown",
      "source": [
        "![image.png](data:image/png;base64,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)"
      ],
      "metadata": {
        "id": "TlV3w8a9mCUP"
      }
    },
    {
      "cell_type": "code",
      "source": [
        "births.decade.value_counts().sum()"
      ],
      "metadata": {
        "id": "NgaF7AwdjFtv"
      },
      "execution_count": null,
      "outputs": []
    },
    {
      "cell_type": "code",
      "source": [
        "pvt_sum = births.pivot_table('births', index='decade', columns='gender', aggfunc='sum')\n",
        "pvt_sum"
      ],
      "metadata": {
        "id": "SVK9hf5Sg4jl"
      },
      "execution_count": null,
      "outputs": []
    },
    {
      "cell_type": "code",
      "source": [
        "sns.histplot(data=births, x='births')"
      ],
      "metadata": {
        "id": "XjF0sTqIkvqn"
      },
      "execution_count": null,
      "outputs": []
    },
    {
      "cell_type": "markdown",
      "metadata": {
        "id": "_5UkQg5eMLb6"
      },
      "source": [
        "We see that male births outnumber female births in every decade.\n",
        "To see this trend a bit more clearly, we can use the built-in plotting tools in Pandas to visualize the total number of births by year, as shown in the following figure (see [Introduction to Matplotlib](04.00-Introduction-To-Matplotlib.ipynb) for a discussion of plotting with Matplotlib):"
      ]
    },
    {
      "cell_type": "code",
      "execution_count": null,
      "metadata": {
        "jupyter": {
          "outputs_hidden": false
        },
        "id": "0_gkH8bSMLb6"
      },
      "outputs": [],
      "source": [
        "%matplotlib inline\n",
        "import matplotlib.pyplot as plt\n",
        "plt.style.use('seaborn-v0_8')\n",
        "births.pivot_table(\n",
        "    'births', index='year', columns='gender', aggfunc='sum').plot(figsize=(20, 5))\n",
        ")\n",
        "plt.ylabel('total births per year');"
      ]
    },
    {
      "cell_type": "code",
      "execution_count": null,
      "metadata": {
        "tags": [],
        "id": "zFqG_Cm1MLb6"
      },
      "outputs": [],
      "source": [
        "quartiles = np.percentile(births['births'], [25, 50, 75])"
      ]
    },
    {
      "cell_type": "code",
      "source": [
        "quartiles"
      ],
      "metadata": {
        "id": "9Ds9A1TkmXEk"
      },
      "execution_count": null,
      "outputs": []
    },
    {
      "cell_type": "code",
      "source": [
        "mu = quartiles[1]\n",
        "mu"
      ],
      "metadata": {
        "id": "FY8K3UhQmP2y"
      },
      "execution_count": null,
      "outputs": []
    },
    {
      "cell_type": "code",
      "source": [
        "sig = 0.74 * (quartiles[2] - quartiles[0])\n",
        "sig"
      ],
      "metadata": {
        "id": "sC2rQ6wUmR-W"
      },
      "execution_count": null,
      "outputs": []
    },
    {
      "cell_type": "code",
      "execution_count": null,
      "metadata": {
        "jupyter": {
          "outputs_hidden": false
        },
        "id": "dvo6FFiOMLb7"
      },
      "outputs": [],
      "source": [
        "births_subset = births.query('(births > @mu - 5 * @sig) & (births < @mu + 5 * @sig)')"
      ]
    },
    {
      "cell_type": "code",
      "source": [
        "births_subset.shape"
      ],
      "metadata": {
        "id": "AH1nuH2uoNd3"
      },
      "execution_count": null,
      "outputs": []
    },
    {
      "cell_type": "code",
      "source": [
        "sns.histplot(data=births_subset, x='births')"
      ],
      "metadata": {
        "id": "AZaaeguYpGH9"
      },
      "execution_count": null,
      "outputs": []
    },
    {
      "cell_type": "markdown",
      "metadata": {
        "id": "YzLOu_xfMLcD"
      },
      "source": [
        "Next we set the `day` column to integers; previously it had been a string column because some columns in the dataset contained the value `'null'`:"
      ]
    },
    {
      "cell_type": "code",
      "source": [
        "births_subset.info()"
      ],
      "metadata": {
        "id": "RhZAME4mpfvd"
      },
      "execution_count": null,
      "outputs": []
    },
    {
      "cell_type": "code",
      "source": [
        "births.isnull().sum()"
      ],
      "metadata": {
        "id": "FTnZGCd9pqyf"
      },
      "execution_count": null,
      "outputs": []
    },
    {
      "cell_type": "code",
      "execution_count": null,
      "metadata": {
        "jupyter": {
          "outputs_hidden": false
        },
        "id": "to_1JNL3MLcD"
      },
      "outputs": [],
      "source": [
        "# set 'day' column to integer; it originally was a string due to nulls\n",
        "births_subset['day'] = births_subset['day'].astype(int)"
      ]
    },
    {
      "cell_type": "code",
      "source": [
        "births_subset.info()"
      ],
      "metadata": {
        "id": "VkbX7Dmwqai8"
      },
      "execution_count": null,
      "outputs": []
    },
    {
      "cell_type": "code",
      "execution_count": null,
      "metadata": {
        "jupyter": {
          "outputs_hidden": false
        },
        "id": "M-1oNr62MLcE"
      },
      "outputs": [],
      "source": [
        "# create a datetime index from the year, month, day\n",
        "births_subset.index = pd.to_datetime(10000 * births_subset.year +\n",
        "                              100 * births_subset.month +\n",
        "                              births_subset.day, format='%Y%m%d')\n",
        "\n",
        "births_subset['dayofweek'] = births_subset.index.dayofweek"
      ]
    },
    {
      "cell_type": "code",
      "source": [
        "births_subset.head()"
      ],
      "metadata": {
        "id": "MlS5dpkLqvqr"
      },
      "execution_count": null,
      "outputs": []
    },
    {
      "cell_type": "markdown",
      "metadata": {
        "id": "-FxFsaxPMLcE"
      },
      "source": [
        "Using this, we can plot births by weekday for several decades (see the following figure):"
      ]
    },
    {
      "cell_type": "code",
      "execution_count": null,
      "metadata": {
        "jupyter": {
          "outputs_hidden": false
        },
        "id": "ddJuJI_5MLcE"
      },
      "outputs": [],
      "source": [
        "import matplotlib.pyplot as plt\n",
        "import matplotlib as mpl\n",
        "\n",
        "births_subset.pivot_table('births', index='dayofweek',\n",
        "                    columns='decade', aggfunc='mean').plot()\n",
        "plt.gca().set(xticks=range(7),\n",
        "              xticklabels=['Mon', 'Tues', 'Wed', 'Thurs', 'Fri', 'Sat', 'Sun'])\n",
        "plt.ylabel('mean births by day');"
      ]
    },
    {
      "cell_type": "code",
      "execution_count": null,
      "metadata": {
        "jupyter": {
          "outputs_hidden": false
        },
        "id": "VqF-v-VSMLcE"
      },
      "outputs": [],
      "source": [
        "births_by_date = births_subset.pivot_table('births', \n",
        "                                    [births_subset.index.month, births_subset.index.day])\n",
        "births_by_date.head()"
      ]
    },
    {
      "cell_type": "markdown",
      "metadata": {
        "id": "r1Kw7Rw7MLcF"
      },
      "source": [
        "The result is a multi-index over months and days.\n",
        "To make this visualizable, let's turn these months and days into dates by associating them with a dummy year variable (making sure to choose a leap year so February 29th is correctly handled!):"
      ]
    },
    {
      "cell_type": "code",
      "execution_count": null,
      "metadata": {
        "jupyter": {
          "outputs_hidden": false
        },
        "id": "6byyWfsPMLcF"
      },
      "outputs": [],
      "source": [
        "from datetime import datetime\n",
        "births_by_date.index = [datetime(2012, month, day)\n",
        "                        for (month, day) in births_by_date.index]\n",
        "births_by_date.head()"
      ]
    },
    {
      "cell_type": "markdown",
      "metadata": {
        "id": "6WJG23qVMLcF"
      },
      "source": [
        "Focusing on the month and day only, we now have a time series reflecting the average number of births by date of the year.\n",
        "From this, we can use the `plot` method to plot the data. It reveals some interesting trends, as you can see in the following figure:"
      ]
    },
    {
      "cell_type": "code",
      "execution_count": null,
      "metadata": {
        "jupyter": {
          "outputs_hidden": false
        },
        "id": "DXVrdJgnMLcF"
      },
      "outputs": [],
      "source": [
        "# Plot the results\n",
        "fig, ax = plt.subplots(figsize=(12, 4))\n",
        "births_by_date.plot(ax=ax);"
      ]
    },
    {
      "cell_type": "markdown",
      "source": [
        "# Generate a plot of the birth total for each day or the month, by decades"
      ],
      "metadata": {
        "id": "DPcD0GUOsRxC"
      }
    },
    {
      "cell_type": "code",
      "source": [],
      "metadata": {
        "id": "egEobKBxsP5G"
      },
      "execution_count": null,
      "outputs": []
    }
  ],
  "metadata": {
    "anaconda-cloud": {},
    "jupytext": {
      "formats": "ipynb,md"
    },
    "kernelspec": {
      "display_name": "Python 3.9.6 64-bit ('3.9.6')",
      "language": "python",
      "name": "python3"
    },
    "language_info": {
      "codemirror_mode": {
        "name": "ipython",
        "version": 3
      },
      "file_extension": ".py",
      "mimetype": "text/x-python",
      "name": "python",
      "nbconvert_exporter": "python",
      "pygments_lexer": "ipython3",
      "version": "3.9.6"
    },
    "vscode": {
      "interpreter": {
        "hash": "513788764cd0ec0f97313d5418a13e1ea666d16d72f976a8acadce25a5af2ffc"
      }
    },
    "colab": {
      "provenance": [],
      "include_colab_link": true
    }
  },
  "nbformat": 4,
  "nbformat_minor": 0
}