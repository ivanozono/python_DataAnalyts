{
  "nbformat": 4,
  "nbformat_minor": 5,
  "metadata": {
    "noteable-chatgpt": {
      "create_notebook": {
        "openai_conversation_id": "de78c054-0d78-5ca8-8e46-879c7b3ca26d",
        "openai_ephemeral_user_id": "eb2ffe7c-2fba-581f-9330-a90457182314",
        "openai_subdivision1_iso_code": "MX-BCN"
      }
    }
  },
  "cells": []
}