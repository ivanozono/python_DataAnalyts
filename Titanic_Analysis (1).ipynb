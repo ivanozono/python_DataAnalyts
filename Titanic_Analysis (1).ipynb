{
  "cells": [
    {
      "cell_type": "code",
      "source": [],
      "outputs": [],
      "execution_count": null,
      "metadata": {
        "jupyter": {
          "source_hidden": false,
          "outputs_hidden": false
        },
        "noteable": {
          "cell_type": "code"
        }
      },
      "id": "5ee87665-452b-4845-ab76-dba8c7346907"
    },
    {
      "cell_type": "markdown",
      "source": [
        "# Análisis de datos del Titanic\n",
        "\n",
        "Este notebook tiene como objetivo analizar el conjunto de datos del Titanic disponible en la biblioteca Seaborn. Vamos a explorar los datos y tratar de extraer algunas conclusiones interesantes."
      ],
      "metadata": {
        "noteable": {
          "cell_type": "markdown"
        }
      },
      "id": "f57563cc-7be4-4d23-b1b1-bf68da8689a2"
    },
    {
      "cell_type": "code",
      "source": [
        "# Importando las bibliotecas necesarias\n",
        "import seaborn as sns\n",
        "import pandas as pd\n",
        "import matplotlib.pyplot as plt\n",
        "\n",
        "# Cargando el conjunto de datos del Titanic\n",
        "titanic = sns.load_dataset('titanic')\n",
        "\n",
        "# Mostrando las primeras filas del conjunto de datos\n",
        "titanic.head()"
      ],
      "outputs": [
        {
          "output_type": "display_data",
          "data": {
            "application/vnd.dataresource+json": {
              "schema": {
                "fields": [
                  {
                    "name": "index",
                    "type": "integer"
                  },
                  {
                    "name": "survived",
                    "type": "integer"
                  },
                  {
                    "name": "pclass",
                    "type": "integer"
                  },
                  {
                    "name": "sex",
                    "type": "string"
                  },
                  {
                    "name": "age",
                    "type": "number"
                  },
                  {
                    "name": "sibsp",
                    "type": "integer"
                  },
                  {
                    "name": "parch",
                    "type": "integer"
                  },
                  {
                    "name": "fare",
                    "type": "number"
                  },
                  {
                    "name": "embarked",
                    "type": "string"
                  },
                  {
                    "name": "class",
                    "type": "any",
                    "constraints": {
                      "enum": [
                        "First",
                        "Second",
                        "Third"
                      ]
                    },
                    "ordered": false
                  },
                  {
                    "name": "who",
                    "type": "string"
                  },
                  {
                    "name": "adult_male",
                    "type": "boolean"
                  },
                  {
                    "name": "deck",
                    "type": "any",
                    "constraints": {
                      "enum": [
                        "A",
                        "B",
                        "C",
                        "D",
                        "E",
                        "F",
                        "G"
                      ]
                    },
                    "ordered": false
                  },
                  {
                    "name": "embark_town",
                    "type": "string"
                  },
                  {
                    "name": "alive",
                    "type": "string"
                  },
                  {
                    "name": "alone",
                    "type": "boolean"
                  }
                ],
                "primaryKey": [
                  "index"
                ],
                "pandas_version": "1.4.0"
              },
              "data": [
                {
                  "index": 0,
                  "survived": 0,
                  "pclass": 3,
                  "sex": "male",
                  "age": 22,
                  "sibsp": 1,
                  "parch": 0,
                  "fare": 7.25,
                  "embarked": "S",
                  "class": "Third",
                  "who": "man",
                  "adult_male": true,
                  "deck": null,
                  "embark_town": "Southampton",
                  "alive": "no",
                  "alone": false
                },
                {
                  "index": 1,
                  "survived": 1,
                  "pclass": 1,
                  "sex": "female",
                  "age": 38,
                  "sibsp": 1,
                  "parch": 0,
                  "fare": 71.2833,
                  "embarked": "C",
                  "class": "First",
                  "who": "woman",
                  "adult_male": false,
                  "deck": "C",
                  "embark_town": "Cherbourg",
                  "alive": "yes",
                  "alone": false
                },
                {
                  "index": 2,
                  "survived": 1,
                  "pclass": 3,
                  "sex": "female",
                  "age": 26,
                  "sibsp": 0,
                  "parch": 0,
                  "fare": 7.925,
                  "embarked": "S",
                  "class": "Third",
                  "who": "woman",
                  "adult_male": false,
                  "deck": null,
                  "embark_town": "Southampton",
                  "alive": "yes",
                  "alone": true
                },
                {
                  "index": 3,
                  "survived": 1,
                  "pclass": 1,
                  "sex": "female",
                  "age": 35,
                  "sibsp": 1,
                  "parch": 0,
                  "fare": 53.1,
                  "embarked": "S",
                  "class": "First",
                  "who": "woman",
                  "adult_male": false,
                  "deck": "C",
                  "embark_town": "Southampton",
                  "alive": "yes",
                  "alone": false
                },
                {
                  "index": 4,
                  "survived": 0,
                  "pclass": 3,
                  "sex": "male",
                  "age": 35,
                  "sibsp": 0,
                  "parch": 0,
                  "fare": 8.05,
                  "embarked": "S",
                  "class": "Third",
                  "who": "man",
                  "adult_male": true,
                  "deck": null,
                  "embark_town": "Southampton",
                  "alive": "no",
                  "alone": true
                }
              ],
              "datalink": {
                "display_id": "c434ccd2-3cbf-41a6-b16c-7d5f56fcc1a1"
              }
            }
          },
          "metadata": {
            "application/vnd.dataresource+json": {
              "datalink": {
                "dataframe_info": {
                  "default_index_used": true,
                  "orig_size_bytes": 988,
                  "orig_num_rows": 5,
                  "orig_num_cols": 15,
                  "truncated_string_columns": [],
                  "truncated_size_bytes": 988,
                  "truncated_num_rows": 5,
                  "truncated_num_cols": 15
                },
                "dx_settings": {
                  "NUM_PAST_SAMPLES_TRACKED": 3,
                  "ENABLE_DATALINK": true,
                  "DISPLAY_MODE": "simple",
                  "GENERATE_DEX_METADATA": false,
                  "STRINGIFY_INDEX_VALUES": false,
                  "ALLOW_NOTEABLE_ATTRS": true,
                  "DISPLAY_MAX_COLUMNS": 100,
                  "HTML_TABLE_SCHEMA": false,
                  "SAMPLING_FACTOR": 0.1,
                  "LOG_LEVEL": 30,
                  "ENABLE_ASSIGNMENT": true,
                  "FLATTEN_INDEX_VALUES": false,
                  "DEV_MODE": false,
                  "COLUMN_SAMPLING_METHOD": "outer",
                  "FLATTEN_COLUMN_VALUES": true,
                  "DISPLAY_MAX_ROWS": 50000,
                  "ROW_SAMPLING_METHOD": "random",
                  "RANDOM_STATE": 12648430,
                  "DB_LOCATION": ":memory:",
                  "STRINGIFY_COLUMN_VALUES": true,
                  "SAMPLING_METHOD": "random",
                  "MAX_STRING_LENGTH": 250,
                  "MAX_RENDER_SIZE_BYTES": 104857600,
                  "RESET_INDEX_VALUES": false
                },
                "display_id": "c434ccd2-3cbf-41a6-b16c-7d5f56fcc1a1",
                "applied_filters": [],
                "sample_history": [],
                "sampling_time": "2023-06-13T05:54:07.410222",
                "variable_name": "unk_dataframe_fa2ebcb800384b8193d7dda25f1dd584",
                "user_variable_name": null
              },
              "display_id": "c434ccd2-3cbf-41a6-b16c-7d5f56fcc1a1"
            }
          }
        }
      ],
      "execution_count": null,
      "metadata": {
        "noteable": {
          "cell_type": "code"
        },
        "ExecuteTime": {
          "end_time": "2023-06-13T05:54:07.571599+00:00",
          "start_time": "2023-06-13T05:54:07.330241+00:00"
        },
        "datalink": {
          "f077cfdd-aeb4-4d12-9258-429a35125d0a": {
            "applied_filters": [],
            "dataframe_info": {
              "default_index_used": true,
              "orig_num_cols": 15,
              "orig_num_rows": 5,
              "orig_size_bytes": 988,
              "truncated_num_cols": 15,
              "truncated_num_rows": 5,
              "truncated_size_bytes": 988,
              "truncated_string_columns": []
            },
            "display_id": "f077cfdd-aeb4-4d12-9258-429a35125d0a",
            "dx_settings": {
              "ALLOW_NOTEABLE_ATTRS": true,
              "COLUMN_SAMPLING_METHOD": "outer",
              "DB_LOCATION": ":memory:",
              "DEV_MODE": false,
              "DISPLAY_MAX_COLUMNS": 100,
              "DISPLAY_MAX_ROWS": 50000,
              "DISPLAY_MODE": "simple",
              "ENABLE_ASSIGNMENT": true,
              "ENABLE_DATALINK": true,
              "FLATTEN_COLUMN_VALUES": true,
              "FLATTEN_INDEX_VALUES": false,
              "GENERATE_DEX_METADATA": false,
              "HTML_TABLE_SCHEMA": false,
              "LOG_LEVEL": 30,
              "MAX_RENDER_SIZE_BYTES": 104857600,
              "MAX_STRING_LENGTH": 250,
              "NUM_PAST_SAMPLES_TRACKED": 3,
              "RANDOM_STATE": 12648430,
              "RESET_INDEX_VALUES": false,
              "ROW_SAMPLING_METHOD": "random",
              "SAMPLING_FACTOR": 0.1,
              "SAMPLING_METHOD": "random",
              "STRINGIFY_COLUMN_VALUES": true,
              "STRINGIFY_INDEX_VALUES": false
            },
            "sample_history": [],
            "sampling_time": "2023-06-13T05:48:18.911473",
            "user_variable_name": null,
            "variable_name": "unk_dataframe_6f5760bf3d4d48cc9204cb2e2b819d5d"
          },
          "c434ccd2-3cbf-41a6-b16c-7d5f56fcc1a1": {
            "applied_filters": [],
            "dataframe_info": {
              "default_index_used": true,
              "orig_num_cols": 15,
              "orig_num_rows": 5,
              "orig_size_bytes": 988,
              "truncated_num_cols": 15,
              "truncated_num_rows": 5,
              "truncated_size_bytes": 988,
              "truncated_string_columns": []
            },
            "display_id": "c434ccd2-3cbf-41a6-b16c-7d5f56fcc1a1",
            "dx_settings": {
              "ALLOW_NOTEABLE_ATTRS": true,
              "COLUMN_SAMPLING_METHOD": "outer",
              "DB_LOCATION": ":memory:",
              "DEV_MODE": false,
              "DISPLAY_MAX_COLUMNS": 100,
              "DISPLAY_MAX_ROWS": 50000,
              "DISPLAY_MODE": "simple",
              "ENABLE_ASSIGNMENT": true,
              "ENABLE_DATALINK": true,
              "FLATTEN_COLUMN_VALUES": true,
              "FLATTEN_INDEX_VALUES": false,
              "GENERATE_DEX_METADATA": false,
              "HTML_TABLE_SCHEMA": false,
              "LOG_LEVEL": 30,
              "MAX_RENDER_SIZE_BYTES": 104857600,
              "MAX_STRING_LENGTH": 250,
              "NUM_PAST_SAMPLES_TRACKED": 3,
              "RANDOM_STATE": 12648430,
              "RESET_INDEX_VALUES": false,
              "ROW_SAMPLING_METHOD": "random",
              "SAMPLING_FACTOR": 0.1,
              "SAMPLING_METHOD": "random",
              "STRINGIFY_COLUMN_VALUES": true,
              "STRINGIFY_INDEX_VALUES": false
            },
            "sample_history": [],
            "sampling_time": "2023-06-13T05:54:07.410222",
            "user_variable_name": null,
            "variable_name": "unk_dataframe_fa2ebcb800384b8193d7dda25f1dd584"
          }
        }
      },
      "id": "6e0f5c2a-72e3-4c96-8072-6bd548124c0f"
    },
    {
      "cell_type": "markdown",
      "source": [
        "## Análisis exploratorio de datos\n",
        "\n",
        "Vamos a realizar un análisis exploratorio de los datos para entender mejor las características de los pasajeros del Titanic."
      ],
      "metadata": {
        "noteable": {
          "cell_type": "markdown"
        }
      },
      "id": "5131c33c-81f8-4c31-b002-2d759eb07e9a"
    },
    {
      "cell_type": "code",
      "source": [
        "# Información general sobre los datos\n",
        "titanic.info()"
      ],
      "outputs": [
        {
          "output_type": "stream",
          "name": "stdout",
          "text": [
            "<class 'pandas.core.frame.DataFrame'>\n",
            "RangeIndex: 891 entries, 0 to 890\n",
            "Data columns (total 15 columns):\n",
            " #   Column       Non-Null Count  Dtype   \n",
            "---  ------       --------------  -----   \n",
            " 0   survived     891 non-null    int64   \n",
            " 1   pclass       891 non-null    int64   \n",
            " 2   sex          891 non-null    object  \n",
            " 3   age          714 non-null    float64 \n",
            " 4   sibsp        891 non-null    int64   \n",
            " 5   parch        891 non-null    int64   \n",
            " 6   fare         891 non-null    float64 \n",
            " 7   embarked     889 non-null    object  \n",
            " 8   class        891 non-null    category\n",
            " 9   who          891 non-null    object  \n",
            " 10  adult_male   891 non-null    bool    \n",
            " 11  deck         203 non-null    category\n",
            " 12  embark_town  889 non-null    object  \n",
            " 13  alive        891 non-null    object  \n",
            " 14  alone        891 non-null    bool    \n",
            "dtypes: bool(2), category(2), float64(2), int64(4), object(5)\n",
            "memory usage: 80.7+ KB\n"
          ]
        }
      ],
      "execution_count": null,
      "metadata": {
        "noteable": {
          "cell_type": "code"
        },
        "ExecuteTime": {
          "end_time": "2023-06-13T05:48:46.181644+00:00",
          "start_time": "2023-06-13T05:48:46.013897+00:00"
        }
      },
      "id": "977c8075-f780-41dd-b819-c82111cacbb9"
    },
    {
      "cell_type": "markdown",
      "source": [
        "Podemos ver que algunas columnas tienen valores nulos, como 'age', 'embarked', 'deck' y 'embark_town'. Esto es algo que debemos tener en cuenta al realizar nuestro análisis.\n",
        "\n",
        "Ahora, vamos a visualizar la distribución de algunas variables."
      ],
      "metadata": {
        "noteable": {
          "cell_type": "markdown"
        }
      },
      "id": "21d02375-7f3d-4a4f-befa-5579ced43a3f"
    },
    {
      "cell_type": "code",
      "source": [
        "# Distribución de la edad de los pasajeros\n",
        "sns.histplot(data=titanic, x='age', kde=True, bins=30)\n",
        "plt.title('Distribución de la Edad de los Pasajeros')\n",
        "plt.show()"
      ],
      "outputs": [
        {
          "output_type": "display_data",
          "data": {
            "image/png": "[encoded data removed]"
          },
          "metadata": {}
        }
      ],
      "execution_count": null,
      "metadata": {
        "noteable": {
          "cell_type": "code"
        },
        "ExecuteTime": {
          "end_time": "2023-06-13T05:49:12.611481+00:00",
          "start_time": "2023-06-13T05:49:11.993861+00:00"
        }
      },
      "id": "f9d0a5be-14a7-4b4a-aaac-64567b1a38fd"
    },
    {
      "cell_type": "markdown",
      "source": [
        "La distribución de la edad de los pasajeros muestra que la mayoría de los pasajeros tenían entre 20 y 30 años. También había un número significativo de niños a bordo.\n",
        "\n",
        "Ahora, vamos a explorar la relación entre la supervivencia y otras variables."
      ],
      "metadata": {
        "noteable": {
          "cell_type": "markdown"
        }
      },
      "id": "26e96d8c-09fa-4905-98eb-f663203fa343"
    },
    {
      "cell_type": "code",
      "source": [
        "# Relación entre la supervivencia y el sexo\n",
        "sns.countplot(data=titanic, x='sex', hue='survived')\n",
        "plt.title('Supervivencia según el Sexo')\n",
        "plt.show()"
      ],
      "outputs": [
        {
          "output_type": "display_data",
          "data": {
            "image/png": "[encoded data removed]"
          },
          "metadata": {}
        }
      ],
      "execution_count": null,
      "metadata": {
        "noteable": {
          "cell_type": "code"
        },
        "ExecuteTime": {
          "end_time": "2023-06-13T05:49:42.338381+00:00",
          "start_time": "2023-06-13T05:49:41.918925+00:00"
        }
      },
      "id": "994267be-27c4-41f0-9d6b-7edf33d620e5"
    },
    {
      "cell_type": "markdown",
      "source": [
        "El gráfico muestra que las mujeres tenían una tasa de supervivencia mucho más alta que los hombres. Esto puede ser debido a la política de 'mujeres y niños primero' para los botes salvavidas.\n",
        "\n",
        "A continuación, vamos a explorar la relación entre la supervivencia y la clase del pasajero."
      ],
      "metadata": {
        "noteable": {
          "cell_type": "markdown"
        }
      },
      "id": "d34e2e51-67e0-4703-b260-875b4414840f"
    },
    {
      "cell_type": "code",
      "source": [
        "# Relación entre la supervivencia y la clase del pasajero\n",
        "sns.countplot(data=titanic, x='class', hue='survived')\n",
        "plt.title('Supervivencia según la Clase del Pasajero')\n",
        "plt.show()"
      ],
      "outputs": [
        {
          "output_type": "display_data",
          "data": {
            "image/png": "[encoded data removed]"
          },
          "metadata": {}
        }
      ],
      "execution_count": null,
      "metadata": {
        "noteable": {
          "cell_type": "code"
        },
        "ExecuteTime": {
          "end_time": "2023-06-13T05:50:14.743448+00:00",
          "start_time": "2023-06-13T05:50:14.282083+00:00"
        }
      },
      "id": "b1af5e8f-9812-47b6-80cf-c63004ff9491"
    },
    {
      "cell_type": "markdown",
      "source": [
        "El gráfico muestra que los pasajeros de primera clase tenían una tasa de supervivencia mucho más alta que los de segunda y tercera clase. Esto podría ser debido a que los pasajeros de primera clase tenían un acceso más fácil a los botes salvavidas.\n",
        "\n",
        "Finalmente, vamos a explorar la relación entre la supervivencia y el puerto de embarque."
      ],
      "metadata": {
        "noteable": {
          "cell_type": "markdown"
        }
      },
      "id": "ebdb1934-d3bc-402d-9693-27b324f8d8dd"
    },
    {
      "cell_type": "code",
      "source": [
        "# Relación entre la supervivencia y el puerto de embarque\n",
        "sns.countplot(data=titanic, x='embark_town', hue='survived')\n",
        "plt.title('Supervivencia según el Puerto de Embarque')\n",
        "plt.show()"
      ],
      "outputs": [
        {
          "output_type": "display_data",
          "data": {
            "image/png": "[encoded data removed]"
          },
          "metadata": {}
        }
      ],
      "execution_count": null,
      "metadata": {
        "noteable": {
          "cell_type": "code"
        },
        "ExecuteTime": {
          "end_time": "2023-06-13T05:50:44.553691+00:00",
          "start_time": "2023-06-13T05:50:44.082994+00:00"
        }
      },
      "id": "d97577ea-12e1-4866-91c8-eb8722799ddb"
    },
    {
      "cell_type": "markdown",
      "source": [
        "El gráfico muestra que los pasajeros que embarcaron en Cherbourg tenían una tasa de supervivencia más alta en comparación con los que embarcaron en Southampton y Queenstown. Esto podría ser debido a varios factores, como la clase del pasajero o el sexo, que también están correlacionados con la supervivencia.\n",
        "\n",
        "Este análisis exploratorio nos ha permitido entender mejor los datos y las relaciones entre las diferentes variables. Sin embargo, hay mucho más que se podría hacer, como realizar un análisis más detallado de las variables, tratar los valores perdidos y crear modelos de predicción."
      ],
      "metadata": {
        "noteable": {
          "cell_type": "markdown"
        }
      },
      "id": "ae6010ac-c2fc-47bd-a195-7383d858dc0f"
    },
    {
      "cell_type": "markdown",
      "source": [
        "## Estadística Descriptiva\n",
        "\n",
        "Vamos a calcular algunas estadísticas descriptivas para las variables numéricas en nuestro conjunto de datos."
      ],
      "metadata": {
        "noteable": {
          "cell_type": "markdown"
        }
      },
      "id": "b68a6f2a-9aae-4cc4-b394-a8dcc772df28"
    },
    {
      "cell_type": "code",
      "source": [
        "# Estadísticas descriptivas\n",
        "titanic.describe(include='all')"
      ],
      "outputs": [
        {
          "output_type": "display_data",
          "data": {
            "application/vnd.dataresource+json": {
              "schema": {
                "fields": [
                  {
                    "name": "index",
                    "type": "string"
                  },
                  {
                    "name": "survived",
                    "type": "number"
                  },
                  {
                    "name": "pclass",
                    "type": "number"
                  },
                  {
                    "name": "sex",
                    "type": "string"
                  },
                  {
                    "name": "age",
                    "type": "number"
                  },
                  {
                    "name": "sibsp",
                    "type": "number"
                  },
                  {
                    "name": "parch",
                    "type": "number"
                  },
                  {
                    "name": "fare",
                    "type": "number"
                  },
                  {
                    "name": "embarked",
                    "type": "string"
                  },
                  {
                    "name": "class",
                    "type": "string"
                  },
                  {
                    "name": "who",
                    "type": "string"
                  },
                  {
                    "name": "adult_male",
                    "type": "string"
                  },
                  {
                    "name": "deck",
                    "type": "string"
                  },
                  {
                    "name": "embark_town",
                    "type": "string"
                  },
                  {
                    "name": "alive",
                    "type": "string"
                  },
                  {
                    "name": "alone",
                    "type": "string"
                  }
                ],
                "primaryKey": [
                  "index"
                ],
                "pandas_version": "1.4.0"
              },
              "data": [
                {
                  "index": "count",
                  "survived": 891,
                  "pclass": 891,
                  "sex": "891",
                  "age": 714,
                  "sibsp": 891,
                  "parch": 891,
                  "fare": 891,
                  "embarked": "889",
                  "class": "891",
                  "who": "891",
                  "adult_male": "891",
                  "deck": "203",
                  "embark_town": "889",
                  "alive": "891",
                  "alone": "891"
                },
                {
                  "index": "unique",
                  "survived": null,
                  "pclass": null,
                  "sex": "2",
                  "age": null,
                  "sibsp": null,
                  "parch": null,
                  "fare": null,
                  "embarked": "3",
                  "class": "3",
                  "who": "3",
                  "adult_male": "2",
                  "deck": "7",
                  "embark_town": "3",
                  "alive": "2",
                  "alone": "2"
                },
                {
                  "index": "top",
                  "survived": null,
                  "pclass": null,
                  "sex": "male",
                  "age": null,
                  "sibsp": null,
                  "parch": null,
                  "fare": null,
                  "embarked": "S",
                  "class": "Third",
                  "who": "man",
                  "adult_male": "True",
                  "deck": "C",
                  "embark_town": "Southampton",
                  "alive": "no",
                  "alone": "True"
                },
                {
                  "index": "freq",
                  "survived": null,
                  "pclass": null,
                  "sex": "577",
                  "age": null,
                  "sibsp": null,
                  "parch": null,
                  "fare": null,
                  "embarked": "644",
                  "class": "491",
                  "who": "537",
                  "adult_male": "537",
                  "deck": "59",
                  "embark_town": "644",
                  "alive": "549",
                  "alone": "537"
                },
                {
                  "index": "mean",
                  "survived": 0.3838383838383838,
                  "pclass": 2.308641975308642,
                  "sex": "nan",
                  "age": 29.69911764705882,
                  "sibsp": 0.5230078563411896,
                  "parch": 0.38159371492704824,
                  "fare": 32.204207968574636,
                  "embarked": "nan",
                  "class": "nan",
                  "who": "nan",
                  "adult_male": "nan",
                  "deck": "nan",
                  "embark_town": "nan",
                  "alive": "nan",
                  "alone": "nan"
                },
                {
                  "index": "std",
                  "survived": 0.4865924542648585,
                  "pclass": 0.8360712409770513,
                  "sex": "nan",
                  "age": 14.526497332334044,
                  "sibsp": 1.1027434322934275,
                  "parch": 0.8060572211299559,
                  "fare": 49.693428597180905,
                  "embarked": "nan",
                  "class": "nan",
                  "who": "nan",
                  "adult_male": "nan",
                  "deck": "nan",
                  "embark_town": "nan",
                  "alive": "nan",
                  "alone": "nan"
                },
                {
                  "index": "min",
                  "survived": 0,
                  "pclass": 1,
                  "sex": "nan",
                  "age": 0.42,
                  "sibsp": 0,
                  "parch": 0,
                  "fare": 0,
                  "embarked": "nan",
                  "class": "nan",
                  "who": "nan",
                  "adult_male": "nan",
                  "deck": "nan",
                  "embark_town": "nan",
                  "alive": "nan",
                  "alone": "nan"
                },
                {
                  "index": "25%",
                  "survived": 0,
                  "pclass": 2,
                  "sex": "nan",
                  "age": 20.125,
                  "sibsp": 0,
                  "parch": 0,
                  "fare": 7.9104,
                  "embarked": "nan",
                  "class": "nan",
                  "who": "nan",
                  "adult_male": "nan",
                  "deck": "nan",
                  "embark_town": "nan",
                  "alive": "nan",
                  "alone": "nan"
                },
                {
                  "index": "50%",
                  "survived": 0,
                  "pclass": 3,
                  "sex": "nan",
                  "age": 28,
                  "sibsp": 0,
                  "parch": 0,
                  "fare": 14.4542,
                  "embarked": "nan",
                  "class": "nan",
                  "who": "nan",
                  "adult_male": "nan",
                  "deck": "nan",
                  "embark_town": "nan",
                  "alive": "nan",
                  "alone": "nan"
                },
                {
                  "index": "75%",
                  "survived": 1,
                  "pclass": 3,
                  "sex": "nan",
                  "age": 38,
                  "sibsp": 1,
                  "parch": 0,
                  "fare": 31,
                  "embarked": "nan",
                  "class": "nan",
                  "who": "nan",
                  "adult_male": "nan",
                  "deck": "nan",
                  "embark_town": "nan",
                  "alive": "nan",
                  "alone": "nan"
                },
                {
                  "index": "max",
                  "survived": 1,
                  "pclass": 3,
                  "sex": "nan",
                  "age": 80,
                  "sibsp": 8,
                  "parch": 6,
                  "fare": 512.3292,
                  "embarked": "nan",
                  "class": "nan",
                  "who": "nan",
                  "adult_male": "nan",
                  "deck": "nan",
                  "embark_town": "nan",
                  "alive": "nan",
                  "alone": "nan"
                }
              ],
              "datalink": {
                "display_id": "ca311a1a-bead-413c-ab85-5466b103be0f"
              }
            }
          },
          "metadata": {
            "application/vnd.dataresource+json": {
              "datalink": {
                "dataframe_info": {
                  "default_index_used": false,
                  "orig_size_bytes": 1408,
                  "orig_num_rows": 11,
                  "orig_num_cols": 15,
                  "truncated_string_columns": [],
                  "truncated_size_bytes": 1408,
                  "truncated_num_rows": 11,
                  "truncated_num_cols": 15
                },
                "dx_settings": {
                  "NUM_PAST_SAMPLES_TRACKED": 3,
                  "ENABLE_DATALINK": true,
                  "DISPLAY_MODE": "simple",
                  "GENERATE_DEX_METADATA": false,
                  "STRINGIFY_INDEX_VALUES": false,
                  "ALLOW_NOTEABLE_ATTRS": true,
                  "DISPLAY_MAX_COLUMNS": 100,
                  "HTML_TABLE_SCHEMA": false,
                  "SAMPLING_FACTOR": 0.1,
                  "LOG_LEVEL": 30,
                  "ENABLE_ASSIGNMENT": true,
                  "FLATTEN_INDEX_VALUES": false,
                  "DEV_MODE": false,
                  "COLUMN_SAMPLING_METHOD": "outer",
                  "FLATTEN_COLUMN_VALUES": true,
                  "DISPLAY_MAX_ROWS": 50000,
                  "ROW_SAMPLING_METHOD": "random",
                  "RANDOM_STATE": 12648430,
                  "DB_LOCATION": ":memory:",
                  "STRINGIFY_COLUMN_VALUES": true,
                  "SAMPLING_METHOD": "random",
                  "MAX_STRING_LENGTH": 250,
                  "MAX_RENDER_SIZE_BYTES": 104857600,
                  "RESET_INDEX_VALUES": false
                },
                "display_id": "ca311a1a-bead-413c-ab85-5466b103be0f",
                "applied_filters": [],
                "sample_history": [],
                "sampling_time": "2023-06-13T06:02:42.091310",
                "variable_name": "unk_dataframe_bde98104e6644606b754de1170843708",
                "user_variable_name": null
              },
              "display_id": "ca311a1a-bead-413c-ab85-5466b103be0f"
            }
          }
        }
      ],
      "execution_count": null,
      "metadata": {
        "noteable": {
          "cell_type": "code"
        },
        "ExecuteTime": {
          "end_time": "2023-06-13T06:02:42.250612+00:00",
          "start_time": "2023-06-13T06:02:41.987098+00:00"
        },
        "datalink": {
          "ca311a1a-bead-413c-ab85-5466b103be0f": {
            "applied_filters": [],
            "dataframe_info": {
              "default_index_used": false,
              "orig_num_cols": 15,
              "orig_num_rows": 11,
              "orig_size_bytes": 1408,
              "truncated_num_cols": 15,
              "truncated_num_rows": 11,
              "truncated_size_bytes": 1408,
              "truncated_string_columns": []
            },
            "display_id": "ca311a1a-bead-413c-ab85-5466b103be0f",
            "dx_settings": {
              "ALLOW_NOTEABLE_ATTRS": true,
              "COLUMN_SAMPLING_METHOD": "outer",
              "DB_LOCATION": ":memory:",
              "DEV_MODE": false,
              "DISPLAY_MAX_COLUMNS": 100,
              "DISPLAY_MAX_ROWS": 50000,
              "DISPLAY_MODE": "simple",
              "ENABLE_ASSIGNMENT": true,
              "ENABLE_DATALINK": true,
              "FLATTEN_COLUMN_VALUES": true,
              "FLATTEN_INDEX_VALUES": false,
              "GENERATE_DEX_METADATA": false,
              "HTML_TABLE_SCHEMA": false,
              "LOG_LEVEL": 30,
              "MAX_RENDER_SIZE_BYTES": 104857600,
              "MAX_STRING_LENGTH": 250,
              "NUM_PAST_SAMPLES_TRACKED": 3,
              "RANDOM_STATE": 12648430,
              "RESET_INDEX_VALUES": false,
              "ROW_SAMPLING_METHOD": "random",
              "SAMPLING_FACTOR": 0.1,
              "SAMPLING_METHOD": "random",
              "STRINGIFY_COLUMN_VALUES": true,
              "STRINGIFY_INDEX_VALUES": false
            },
            "sample_history": [],
            "sampling_time": "2023-06-13T06:02:42.091310",
            "user_variable_name": null,
            "variable_name": "unk_dataframe_bde98104e6644606b754de1170843708"
          }
        },
        "dx": {
          "dashboard": {
            "multiViews": []
          },
          "fieldMetadata": {
            "adult_male": {
              "columnPosition": 12
            },
            "age": {
              "columnPosition": 5
            },
            "alive": {
              "columnPosition": 15
            },
            "alone": {
              "columnPosition": 16
            },
            "class": {
              "columnPosition": 10
            },
            "deck": {
              "columnPosition": 13
            },
            "embark_town": {
              "columnPosition": 14
            },
            "embarked": {
              "columnPosition": 9
            },
            "fare": {
              "columnPosition": 8
            },
            "index": {
              "columnPosition": 1,
              "width": 81.26953125
            },
            "parch": {
              "columnPosition": 7
            },
            "pclass": {
              "columnPosition": 3
            },
            "sex": {
              "columnPosition": 4
            },
            "sibsp": {
              "columnPosition": 6
            },
            "survived": {
              "columnPosition": 2
            },
            "who": {
              "columnPosition": 11
            }
          },
          "updated": 1686636364529,
          "views": [
            {
              "annotationRules": [],
              "chart": {},
              "chartMode": "grid",
              "confoRules": [],
              "decoration": {
                "footer": "",
                "subtitle": "",
                "title": "Table"
              },
              "facets": [],
              "filterSettings": {
                "SHOW_FILTER_PANEL": true,
                "filters": []
              },
              "id": "first-view",
              "isDefault": true,
              "type": "public",
              "userID": ""
            },
            {
              "annotationRules": [],
              "chart": {
                "tableSparklines": true
              },
              "chartMode": "grid",
              "confoRules": [],
              "decoration": {
                "footer": "",
                "subtitle": "",
                "title": "Table"
              },
              "facets": [],
              "filterSettings": {
                "SHOW_FILTER_PANEL": true,
                "filters": []
              },
              "id": "first-view",
              "isDefault": true,
              "isTransitory": true,
              "type": "public",
              "userID": ""
            }
          ]
        }
      },
      "id": "15185c24-f06c-4e0a-9e29-7a05dc4f0b1b"
    },
    {
      "cell_type": "markdown",
      "source": [
        "Las estadísticas descriptivas nos proporcionan una visión general de las variables en nuestro conjunto de datos. Por ejemplo, podemos ver que la edad media de los pasajeros era de alrededor de 30 años, y que la tarifa media era de alrededor de 32. También podemos ver que había más hombres que mujeres a bordo, y que la mayoría de los pasajeros embarcaron en Southampton.\n",
        "\n",
        "## Estadística Inferencial\n",
        "\n",
        "Vamos a realizar algunas pruebas estadísticas para inferir las relaciones entre las variables. En particular, vamos a realizar una prueba Chi-cuadrado para examinar la relación entre la supervivencia y otras variables categóricas."
      ],
      "metadata": {
        "noteable": {
          "cell_type": "markdown"
        }
      },
      "id": "d373f62f-a510-47fa-8bef-6f3cf568cd28"
    },
    {
      "cell_type": "code",
      "source": [
        "from scipy.stats import chi2_contingency\n",
        "\n",
        "# Prueba Chi-cuadrado para la supervivencia y el sexo\n",
        "contingency_table = pd.crosstab(titanic['survived'], titanic['sex'])\n",
        "chi2, p, dof, expected = chi2_contingency(contingency_table)\n",
        "p"
      ],
      "outputs": [
        {
          "output_type": "execute_result",
          "execution_count": null,
          "data": {
            "text/plain": "1.1973570627755645e-58"
          },
          "metadata": {}
        }
      ],
      "execution_count": null,
      "metadata": {
        "noteable": {
          "cell_type": "code"
        },
        "ExecuteTime": {
          "end_time": "2023-06-13T06:03:20.314284+00:00",
          "start_time": "2023-06-13T06:03:20.144479+00:00"
        }
      },
      "id": "a8fd1797-c5aa-407e-982a-5da86a2c273a"
    },
    {
      "cell_type": "markdown",
      "source": [
        "El valor p es extremadamente pequeño, lo que indica que hay una fuerte relación entre el sexo del pasajero y la supervivencia. Esto confirma lo que vimos en nuestro análisis exploratorio de los datos.\n",
        "\n",
        "Vamos a realizar la misma prueba para la clase del pasajero."
      ],
      "metadata": {
        "noteable": {
          "cell_type": "markdown"
        }
      },
      "id": "72a1f51c-838b-4882-bfeb-f07c316aca04"
    },
    {
      "cell_type": "code",
      "source": [
        "# Prueba Chi-cuadrado para la supervivencia y la clase del pasajero\n",
        "contingency_table = pd.crosstab(titanic['survived'], titanic['class'])\n",
        "chi2, p, dof, expected = chi2_contingency(contingency_table)\n",
        "p"
      ],
      "outputs": [
        {
          "output_type": "execute_result",
          "execution_count": null,
          "data": {
            "text/plain": "4.549251711298793e-23"
          },
          "metadata": {}
        }
      ],
      "execution_count": null,
      "metadata": {
        "noteable": {
          "cell_type": "code"
        },
        "ExecuteTime": {
          "end_time": "2023-06-13T06:03:50.277661+00:00",
          "start_time": "2023-06-13T06:03:50.107191+00:00"
        }
      },
      "id": "501c3b8c-fe0d-47a5-9db6-b428e7e0d9da"
    },
    {
      "cell_type": "markdown",
      "source": [
        "El valor p es también extremadamente pequeño, lo que indica que hay una fuerte relación entre la clase del pasajero y la supervivencia. Esto también confirma lo que vimos en nuestro análisis exploratorio de los datos.\n",
        "\n",
        "Estas pruebas estadísticas nos permiten inferir relaciones entre las variables y proporcionan una base sólida para cualquier análisis o modelado adicional que podamos querer hacer."
      ],
      "metadata": {
        "noteable": {
          "cell_type": "markdown"
        }
      },
      "id": "83f1159f-ab54-47ca-8b05-e304d2945f12"
    }
  ],
  "metadata": {
    "noteable-chatgpt": {
      "create_notebook": {
        "openai_conversation_id": "de78c054-0d78-5ca8-8e46-879c7b3ca26d",
        "openai_ephemeral_user_id": "eb2ffe7c-2fba-581f-9330-a90457182314",
        "openai_subdivision1_iso_code": "MX-BCN"
      }
    },
    "noteable": {
      "last_delta_id": "1f01bbe5-7e92-4b8b-a65a-a41b7d4a408b"
    },
    "selected_hardware_size": "small",
    "nteract": {
      "version": "noteable@2.9.0"
    }
  },
  "nbformat": 4,
  "nbformat_minor": 5
}